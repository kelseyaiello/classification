{
 "cells": [
  {
   "cell_type": "markdown",
   "metadata": {},
   "source": [
    "# Classification with Logistic Regression\n",
    "\n",
    "In today's exercise, we'll introduce **logistic regression** as a mechanism for performing _classification tasks_. This exercise walks through a conceptual example discussd in chapter 4 of [this book](http://www-bcf.usc.edu/~gareth/ISL/ISLR%20Sixth%20Printing.pdf), and the data was extracted from the `ISLR` R package (specifically, the `Default` dataset). The question of interest for this exercise is, \n",
    "\n",
    "> Can we predict which individuals will default on their credit card payments?\n"
   ]
  },
  {
   "cell_type": "markdown",
   "metadata": {},
   "source": [
    "# Set Up (0 minutes)"
   ]
  },
  {
   "cell_type": "code",
   "execution_count": 6,
   "metadata": {
    "collapsed": false
   },
   "outputs": [],
   "source": [
    "# Set up\n",
    "import numpy as np\n",
    "from __future__ import division # division\n",
    "import pandas as pd\n",
    "import seaborn as sns # for visualiation\n",
    "from scipy.stats import ttest_ind # t-tests\n",
    "import statsmodels.formula.api as smf # linear modeling\n",
    "import statsmodels.api as sm\n",
    "import matplotlib.pyplot as plt # plotting\n",
    "import matplotlib\n",
    "from sklearn import metrics\n",
    "matplotlib.style.use('ggplot')\n",
    "%matplotlib inline\n",
    "\n",
    "# Load the data, replace strings as numeric\n",
    "df = pd.read_csv('./data/payment-default.csv')\n",
    "df.default = df.default.replace(['Yes', 'No'], [1, 0]).astype(int)\n",
    "df.student = df.student.replace(['Yes', 'No'], [1, 0]).astype(int)"
   ]
  },
  {
   "cell_type": "markdown",
   "metadata": {},
   "source": [
    "# Data Exploration (15 minutes)\n",
    "\n",
    "In this first section, you'll explore your dataset to get a better handle on the distributions. The data for this exercise has **10,000** observations (people), who did, or did not, default on their credit card payment. The data has the following information for each person:\n",
    "\n",
    "- `default`: This is our **outcome** of interest, and is **binary** (yes/no)\n",
    "- `student`: This variable indicates if each person is a students (yes/no)\n",
    "- `balance`: Current balance on the credit card (**continuous**)\n",
    "- `income`: Annual income of the individual (**continuous**)\n",
    "\n",
    "In this section, you'll write the code necessary to answer the following questions:\n",
    "\n",
    "- What is the **default rate** in the dataset (# of defaults / total)\n",
    "- What is the distribution of credit card **balances** (for those who default, and those who do not)?\n",
    "- What is the relationship between `balance` and `income` (show a scatter-plot, different colors for default/no default)?\n"
   ]
  },
  {
   "cell_type": "code",
   "execution_count": 9,
   "metadata": {
    "collapsed": false
   },
   "outputs": [
    {
     "data": {
      "text/plain": [
       "3.3300000000000005"
      ]
     },
     "execution_count": 9,
     "metadata": {},
     "output_type": "execute_result"
    }
   ],
   "source": [
    "# What is the **default rate** in the dataset (# of defaults / total)\n",
    "default_rate = df[df.default == 1].count()[0]/df.shape[0] * 100 # 3% default rate\n",
    "default_rate"
   ]
  },
  {
   "cell_type": "code",
   "execution_count": 66,
   "metadata": {
    "collapsed": false
   },
   "outputs": [],
   "source": [
    "# What is the distribution of balances (for those who default, and those who don't)?\n",
    "\n",
    "# You may want to create subsets of the data for those who defaulted, and those who did not\n",
    "defaulted = df[df]\n",
    "\n",
    "\n",
    "# Draw histograms of the distribution (perhaps overlapping histogram on the same chart)\n",
    "plt.figure(figsize)\n"
   ]
  },
  {
   "cell_type": "code",
   "execution_count": 67,
   "metadata": {
    "collapsed": false
   },
   "outputs": [],
   "source": [
    "# What is the relationship between balalance and income (show a scatter-plot, different colors for default/no default)?\n",
    "# Hint: http://stackoverflow.com/questions/21654635/scatter-plots-in-pandas-pyplot-how-to-plot-by-category\n"
   ]
  },
  {
   "cell_type": "markdown",
   "metadata": {},
   "source": [
    "List pertinent observations from the above analysis:\n",
    "\n",
    "> Your insights here..."
   ]
  },
  {
   "cell_type": "markdown",
   "metadata": {},
   "source": [
    "# A Linear Approach (15 minutes)\n",
    "\n",
    "Before introducing a new estimation approach, we'll observe the limitations of using a linear estimation of a binary outcome. In this section, you'll do the following:\n",
    "\n",
    "- Fit a **linear model** of the dependent variable (`default`) on _one_ indepdendent variable (`balance`)\n",
    "- Generate predictions using your model (this can be interpreted as _probability of default_)\n",
    "- Visualize the results (comparing `balance` to the predicted `default` rate)\n",
    "- Interpret the **coefficients** and assess the **model fit**"
   ]
  },
  {
   "cell_type": "code",
   "execution_count": 17,
   "metadata": {
    "collapsed": false
   },
   "outputs": [
    {
     "data": {
      "text/html": [
       "<table class=\"simpletable\">\n",
       "<caption>OLS Regression Results</caption>\n",
       "<tr>\n",
       "  <th>Dep. Variable:</th>         <td>default</td>     <th>  R-squared:         </th> <td>   0.123</td> \n",
       "</tr>\n",
       "<tr>\n",
       "  <th>Model:</th>                   <td>OLS</td>       <th>  Adj. R-squared:    </th> <td>   0.122</td> \n",
       "</tr>\n",
       "<tr>\n",
       "  <th>Method:</th>             <td>Least Squares</td>  <th>  F-statistic:       </th> <td>   1397.</td> \n",
       "</tr>\n",
       "<tr>\n",
       "  <th>Date:</th>             <td>Mon, 13 Feb 2017</td> <th>  Prob (F-statistic):</th> <td>2.77e-286</td>\n",
       "</tr>\n",
       "<tr>\n",
       "  <th>Time:</th>                 <td>14:09:08</td>     <th>  Log-Likelihood:    </th> <td>  3644.8</td> \n",
       "</tr>\n",
       "<tr>\n",
       "  <th>No. Observations:</th>      <td> 10000</td>      <th>  AIC:               </th> <td>  -7286.</td> \n",
       "</tr>\n",
       "<tr>\n",
       "  <th>Df Residuals:</th>          <td>  9998</td>      <th>  BIC:               </th> <td>  -7271.</td> \n",
       "</tr>\n",
       "<tr>\n",
       "  <th>Df Model:</th>              <td>     1</td>      <th>                     </th>     <td> </td>    \n",
       "</tr>\n",
       "<tr>\n",
       "  <th>Covariance Type:</th>      <td>nonrobust</td>    <th>                     </th>     <td> </td>    \n",
       "</tr>\n",
       "</table>\n",
       "<table class=\"simpletable\">\n",
       "<tr>\n",
       "      <td></td>         <th>coef</th>     <th>std err</th>      <th>t</th>      <th>P>|t|</th> <th>[95.0% Conf. Int.]</th> \n",
       "</tr>\n",
       "<tr>\n",
       "  <th>Intercept</th> <td>   -0.0752</td> <td>    0.003</td> <td>  -22.416</td> <td> 0.000</td> <td>   -0.082    -0.069</td>\n",
       "</tr>\n",
       "<tr>\n",
       "  <th>balance</th>   <td>    0.0001</td> <td> 3.47e-06</td> <td>   37.374</td> <td> 0.000</td> <td>    0.000     0.000</td>\n",
       "</tr>\n",
       "</table>\n",
       "<table class=\"simpletable\">\n",
       "<tr>\n",
       "  <th>Omnibus:</th>       <td>8547.967</td> <th>  Durbin-Watson:     </th>  <td>   2.023</td> \n",
       "</tr>\n",
       "<tr>\n",
       "  <th>Prob(Omnibus):</th>  <td> 0.000</td>  <th>  Jarque-Bera (JB):  </th> <td>180810.806</td>\n",
       "</tr>\n",
       "<tr>\n",
       "  <th>Skew:</th>           <td> 4.243</td>  <th>  Prob(JB):          </th>  <td>    0.00</td> \n",
       "</tr>\n",
       "<tr>\n",
       "  <th>Kurtosis:</th>       <td>22.025</td>  <th>  Cond. No.          </th>  <td>1.93e+03</td> \n",
       "</tr>\n",
       "</table>"
      ],
      "text/plain": [
       "<class 'statsmodels.iolib.summary.Summary'>\n",
       "\"\"\"\n",
       "                            OLS Regression Results                            \n",
       "==============================================================================\n",
       "Dep. Variable:                default   R-squared:                       0.123\n",
       "Model:                            OLS   Adj. R-squared:                  0.122\n",
       "Method:                 Least Squares   F-statistic:                     1397.\n",
       "Date:                Mon, 13 Feb 2017   Prob (F-statistic):          2.77e-286\n",
       "Time:                        14:09:08   Log-Likelihood:                 3644.8\n",
       "No. Observations:               10000   AIC:                            -7286.\n",
       "Df Residuals:                    9998   BIC:                            -7271.\n",
       "Df Model:                           1                                         \n",
       "Covariance Type:            nonrobust                                         \n",
       "==============================================================================\n",
       "                 coef    std err          t      P>|t|      [95.0% Conf. Int.]\n",
       "------------------------------------------------------------------------------\n",
       "Intercept     -0.0752      0.003    -22.416      0.000        -0.082    -0.069\n",
       "balance        0.0001   3.47e-06     37.374      0.000         0.000     0.000\n",
       "==============================================================================\n",
       "Omnibus:                     8547.967   Durbin-Watson:                   2.023\n",
       "Prob(Omnibus):                  0.000   Jarque-Bera (JB):           180810.806\n",
       "Skew:                           4.243   Prob(JB):                         0.00\n",
       "Kurtosis:                      22.025   Cond. No.                     1.93e+03\n",
       "==============================================================================\n",
       "\n",
       "Warnings:\n",
       "[1] Standard Errors assume that the covariance matrix of the errors is correctly specified.\n",
       "[2] The condition number is large, 1.93e+03. This might indicate that there are\n",
       "strong multicollinearity or other numerical problems.\n",
       "\"\"\""
      ]
     },
     "execution_count": 17,
     "metadata": {},
     "output_type": "execute_result"
    }
   ],
   "source": [
    "# Fit a linear model of the dependent variable (default) on balance\n",
    "lm = smf.ols(formula='default ~ balance', data=df).fit()\n",
    "lm.summary()\n"
   ]
  },
  {
   "cell_type": "code",
   "execution_count": 18,
   "metadata": {
    "collapsed": true
   },
   "outputs": [],
   "source": [
    "# Generate predictions using your model (this can be interpreted as probability of default)\n",
    "df['predictions'] = lm.predict()"
   ]
  },
  {
   "cell_type": "code",
   "execution_count": 27,
   "metadata": {
    "collapsed": false
   },
   "outputs": [
    {
     "data": {
      "image/png": "[encoded data removed]",
      "text/plain": [
       "<matplotlib.figure.Figure at 0x115fc0b00>"
      ]
     },
     "metadata": {},
     "output_type": "display_data"
    }
   ],
   "source": [
    "# Visualize the results: scatterplot of balance v.s. predcited default rate. Bonus: add actual default rate.\n",
    "\n",
    "plt.scatter(df.balance, df.default, c=\"red\")\n",
    "plt.plot(df.balance, df.predictions, c=\"black\")\n",
    "plt.show()\n"
   ]
  },
  {
   "cell_type": "code",
   "execution_count": 71,
   "metadata": {
    "collapsed": false
   },
   "outputs": [],
   "source": [
    "# Interpret the **coefficients** and assess the **model fit**\n"
   ]
  },
  {
   "cell_type": "markdown",
   "metadata": {},
   "source": [
    "What is your interpretation of the coefficients and your assessment of the model fit?\n",
    "\n",
    "> Your insights here"
   ]
  },
  {
   "cell_type": "markdown",
   "metadata": {},
   "source": [
    "# The Logistic Function (10 minutes)"
   ]
  },
  {
   "cell_type": "markdown",
   "metadata": {},
   "source": [
    "For this section, you'll simply familiarize yourself with the **Logistic Function**. In order to perform **classification**, we want to explicitly **model the probability** of falling into each category. Given the limitations of linear regression, we want to find a functional form with the following property:\n",
    "\n",
    "> _All values output by the function should fall **between 0 and 1**._\n",
    "\n",
    "Because we are modeling **conditional probability**, we will annotate our formula using the following shorthand:\n",
    "\n",
    "\\begin{equation*}\n",
    "p(X)= Pr\\left(Y=1|X\\right) \\\\\n",
    "\\end{equation*}\n",
    "\n",
    "\\begin{equation*}\n",
    "p(balance)=Pr(default=1|balance)\n",
    "\\end{equation*}\n",
    "\n",
    "While there are many functions that meet this requirement, a commonly used formula (and the one that we will use for logistic regression) is the **logistic function**:\n",
    "\n",
    "\n",
    "\\begin{equation*}\n",
    "p(X) = \\frac { { e }^{ { { B }_{ 0 } } + { B }_{ 1 }X } }{ 1+{ e }^{ { { B }_{ 0 } } + { B }_{ 1 }X}} \n",
    "\\end{equation*}\n",
    "\n",
    "Note, with some manipulaiton, we can rearrange the above equation into the following equality:\n",
    "\n",
    "\\begin{equation*}\n",
    "\\frac { p(X) }{ 1 - p(X) } = { e }^{ { { B }_{ 0 } }+{ B }_{ 1 }X } \n",
    "\\end{equation*}"
   ]
  },
  {
   "cell_type": "markdown",
   "metadata": {
    "collapsed": true
   },
   "source": [
    "As you may have noticed, the left hand side of the equation is the **odds** of observing our dependent variable given our independent variable(s). This is because the odds is the ratio of the probability of an event, $p(X)$, relative to the probability of not observing the event, $1 - p(X)$.\n",
    "\n",
    "By simply taking the log of both sides of the above equation, we arrive at the following formula:\n",
    "\n",
    "\\begin{equation*}\n",
    "\\log \\left( { \\frac { p(X) }{ 1-p(X) } }\\right) ={ { B }_{ 0 } }+{ B }_{ 1 }X\n",
    "\\end{equation*}\n",
    "\n",
    "On the left-hand side of the equation, we are left with the _log odds_, or _logit_, that has a **linear relationship** with the predictor variables. The betas are estimated using **maximum likelihood methods**, which are beyond the scope of this course. However, the intuition of this approach is that you are \"finding the set of parameters for which the probability of the observed data is greatest\" ([source](http://czep.net/stat/mlelr.pdf)). \n",
    "\n",
    "Logistic models will generate a set of probabilities of an observation being a 0 or a 1. Given the functional form, the default threshold for classification is .5 (i.e., if a probability is less than .5, the model predicts it is _not_ a positive case). "
   ]
  },
  {
   "cell_type": "markdown",
   "metadata": {},
   "source": [
    "# Running a Logistic Regression (15 minutes)"
   ]
  },
  {
   "cell_type": "markdown",
   "metadata": {},
   "source": [
    "We'll continue to use the `statsmodels.formula.api` to write R style formulas in our analytical approaches. Logistic Regression is considered a **Generalized Linear Model**, which is described well on [Wikipedia](https://en.wikipedia.org/wiki/Generalized_linear_model):\n",
    "\n",
    "> The generalized linear model (GLM) is a flexible generalization of ordinary linear regression that allows for response variables that have error distribution models **other than a normal distribution**.\n",
    "\n",
    "This class of models extends the linear model in a variety of ways, while providing an API that resembles the linear approach. "
   ]
  },
  {
   "cell_type": "markdown",
   "metadata": {},
   "source": [
    "In this section, you should: \n",
    "\n",
    "- Use the `smf.glm` function to fit `default` to `balance` (hint: see this [example](http://statsmodels.sourceforge.net/devel/examples/notebooks/generated/glm_formula.html))\n",
    "- Generate a set of predicted probabilities using your model\n",
    "- Visualize the predicted probabilities across balances\n"
   ]
  },
  {
   "cell_type": "code",
   "execution_count": 28,
   "metadata": {
    "collapsed": false
   },
   "outputs": [
    {
     "data": {
      "text/html": [
       "<table class=\"simpletable\">\n",
       "<caption>Generalized Linear Model Regression Results</caption>\n",
       "<tr>\n",
       "  <th>Dep. Variable:</th>       <td>default</td>     <th>  No. Observations:  </th>  <td> 10000</td> \n",
       "</tr>\n",
       "<tr>\n",
       "  <th>Model:</th>                 <td>GLM</td>       <th>  Df Residuals:      </th>  <td>  9998</td> \n",
       "</tr>\n",
       "<tr>\n",
       "  <th>Model Family:</th>       <td>Binomial</td>     <th>  Df Model:          </th>  <td>     1</td> \n",
       "</tr>\n",
       "<tr>\n",
       "  <th>Link Function:</th>        <td>logit</td>      <th>  Scale:             </th>    <td>1.0</td>  \n",
       "</tr>\n",
       "<tr>\n",
       "  <th>Method:</th>               <td>IRLS</td>       <th>  Log-Likelihood:    </th> <td> -798.23</td>\n",
       "</tr>\n",
       "<tr>\n",
       "  <th>Date:</th>           <td>Mon, 13 Feb 2017</td> <th>  Deviance:          </th> <td>  1596.5</td>\n",
       "</tr>\n",
       "<tr>\n",
       "  <th>Time:</th>               <td>14:40:37</td>     <th>  Pearson chi2:      </th> <td>7.15e+03</td>\n",
       "</tr>\n",
       "<tr>\n",
       "  <th>No. Iterations:</th>        <td>11</td>        <th>                     </th>     <td> </td>   \n",
       "</tr>\n",
       "</table>\n",
       "<table class=\"simpletable\">\n",
       "<tr>\n",
       "      <td></td>         <th>coef</th>     <th>std err</th>      <th>z</th>      <th>P>|z|</th> <th>[95.0% Conf. Int.]</th> \n",
       "</tr>\n",
       "<tr>\n",
       "  <th>Intercept</th> <td>  -10.6513</td> <td>    0.361</td> <td>  -29.491</td> <td> 0.000</td> <td>  -11.359    -9.943</td>\n",
       "</tr>\n",
       "<tr>\n",
       "  <th>balance</th>   <td>    0.0055</td> <td>    0.000</td> <td>   24.952</td> <td> 0.000</td> <td>    0.005     0.006</td>\n",
       "</tr>\n",
       "</table>"
      ],
      "text/plain": [
       "<class 'statsmodels.iolib.summary.Summary'>\n",
       "\"\"\"\n",
       "                 Generalized Linear Model Regression Results                  \n",
       "==============================================================================\n",
       "Dep. Variable:                default   No. Observations:                10000\n",
       "Model:                            GLM   Df Residuals:                     9998\n",
       "Model Family:                Binomial   Df Model:                            1\n",
       "Link Function:                  logit   Scale:                             1.0\n",
       "Method:                          IRLS   Log-Likelihood:                -798.23\n",
       "Date:                Mon, 13 Feb 2017   Deviance:                       1596.5\n",
       "Time:                        14:40:37   Pearson chi2:                 7.15e+03\n",
       "No. Iterations:                    11                                         \n",
       "==============================================================================\n",
       "                 coef    std err          z      P>|z|      [95.0% Conf. Int.]\n",
       "------------------------------------------------------------------------------\n",
       "Intercept    -10.6513      0.361    -29.491      0.000       -11.359    -9.943\n",
       "balance        0.0055      0.000     24.952      0.000         0.005     0.006\n",
       "==============================================================================\n",
       "\"\"\""
      ]
     },
     "execution_count": 28,
     "metadata": {},
     "output_type": "execute_result"
    }
   ],
   "source": [
    "# Use the `smf.glm` function to fit `default` to `balance` (hint: use the `binomial` family)\n",
    "lr = smf.glm(formula='default ~ balance', data=df, family=sm.families.Binomial()).fit()\n",
    "lr.summary()\n"
   ]
  },
  {
   "cell_type": "code",
   "execution_count": 33,
   "metadata": {
    "collapsed": false
   },
   "outputs": [],
   "source": [
    "# Generate a set of predicted probabilities using your model\n",
    "df['log_reg_pred'] = lr.predict()"
   ]
  },
  {
   "cell_type": "code",
   "execution_count": 40,
   "metadata": {
    "collapsed": false
   },
   "outputs": [
    {
     "data": {
      "image/png": "[encoded data removed]",
      "text/plain": [
       "<matplotlib.figure.Figure at 0x11beeefd0>"
      ]
     },
     "metadata": {},
     "output_type": "display_data"
    }
   ],
   "source": [
    "# Visualize the predicted probabilities across balances (bonus: add the observed values as well)\n",
    "\n",
    "plt.scatter(df.balance, df.log_reg_pred)\n",
    "plt.scatter(df.balance, df.default, c=\"red\")\n",
    "plt.show()\n"
   ]
  },
  {
   "cell_type": "markdown",
   "metadata": {},
   "source": [
    "While the simplicity of the `predict()` method makes it easy to overlook the interworkings of the model. You should note that the estimates are generated by plugging values of $X$ into this equation (with your estimated Beta values):\n",
    "\n",
    "\\begin{equation*}\n",
    "p(X) = \\frac { { e }^{ { { B }_{ 0 } } + { B }_{ 1 }X } }{ 1+{ e }^{ { { B }_{ 0 } } + { B }_{ 1 }X}} \n",
    "\\end{equation*}"
   ]
  },
  {
   "cell_type": "markdown",
   "metadata": {},
   "source": [
    "# Interpreting Betas (15 minutes)\n",
    "\n",
    "As demonstrated above, the logistic formula is **linear in logit space**. This means that changes in your variables are associated with a **change in the log odds** of your dependent variable. There are a few implications of this:\n",
    "\n",
    "- **P-Values** retain their same interpretation (probability of observing the relationship _by chance_), and can be used to confirm/reject the null hypothesis\n",
    "- **Direction** of betas (+/-) is associated with a corresponding increase/decrease in the _log odds_ of the outcome. This can be interpreted as a positive / negative relationship. \n",
    "\n",
    "## Units\n",
    "**Units** of the betas are more difficult to interpret. Each unit increase in $X$ is _associated with_ an increase in the **log odds** of the dependent variable $Y$. As you can see in the curve above, increases in log odds are **multiplicative** in nature. This means that a unit increase in $X$ corresponds to a **different** change in $Y$ depending on your **current value of $X$** (see how the **slope** of the curve changes). However, if we **exponentiate the beta value**, we can also describe proportional increase in the **odds** (not just the increase in _log odds_). Consider the following formulas for calculating the log odds for ${X}_{i}$ and ${X}_{i - 1}$ (a unit increase in $X$):\n",
    "\n",
    "\\begin{equation*}\n",
    "LogOddsX_{i} = \\log \\left( { \\frac { p({X}_{i}) }{ 1-p({X}_{i}) } }\\right) ={ { B }_{ 0 } }+{ B }_{ 1 }{X}_{i}\n",
    "\\end{equation*}\n",
    "\n",
    "\\begin{equation*}\n",
    "LogOddsX_{i-1} = \\log \\left( { \\frac { p({X}_{i-1}) }{ 1-p({X}_{i-1}) } }\\right) ={ { B }_{ 0 } }+{ B }_{ 1 }{X}_{i-1}\n",
    "\\end{equation*}\n",
    "\n",
    "Because of the **linear relationship** in logit space, we can then easily calculate the **difference** in log odds between ${X}_{i}$ and ${X}_{i + 1}$ as $B_{1}$:\n",
    "\n",
    "\\begin{equation*}\n",
    "\\log \\left( { \\frac { p({X}_{i}) }{ 1-p({X}_{i}) } }\\right) - \\log \\left( { \\frac { p({X}_{i-1}) }{ 1-p({X}_{i-1}) } }\\right) = {B}_{1}\n",
    "\\end{equation*}\n",
    "\n",
    "If we exponentiate each side of the equation, we can see that the **proportional increase in odds** betweeen $P(X_{i-1})$ and $P(X_{i})$ is simply ${e}^{{B}_{1}}$:\n",
    "\n",
    "\\begin{equation*}\n",
    "\\frac { \\left( { \\frac { p({ X }_{ i }) }{ 1-p({ X }_{ i }) }  } \\right)  }{ \\left( { \\frac { p({ X }_{ i-1 }) }{ 1-p({ X }_{ i-1 }) }  } \\right)  } ={ e }^{ B_{ 1} }\n",
    "\\end{equation*}\n",
    "\n",
    "We can then interpret the **exponentiated beta value** as the observed **multiplicative unit increase in odds** in the dependent variable."
   ]
  },
  {
   "cell_type": "markdown",
   "metadata": {},
   "source": [
    "In the section below, you should:\n",
    "- Get the `summary` of your logistic model to retrieve betas values from your model."
   ]
  },
  {
   "cell_type": "code",
   "execution_count": 41,
   "metadata": {
    "collapsed": false
   },
   "outputs": [
    {
     "data": {
      "text/html": [
       "<table class=\"simpletable\">\n",
       "<caption>Generalized Linear Model Regression Results</caption>\n",
       "<tr>\n",
       "  <th>Dep. Variable:</th>       <td>default</td>     <th>  No. Observations:  </th>  <td> 10000</td> \n",
       "</tr>\n",
       "<tr>\n",
       "  <th>Model:</th>                 <td>GLM</td>       <th>  Df Residuals:      </th>  <td>  9998</td> \n",
       "</tr>\n",
       "<tr>\n",
       "  <th>Model Family:</th>       <td>Binomial</td>     <th>  Df Model:          </th>  <td>     1</td> \n",
       "</tr>\n",
       "<tr>\n",
       "  <th>Link Function:</th>        <td>logit</td>      <th>  Scale:             </th>    <td>1.0</td>  \n",
       "</tr>\n",
       "<tr>\n",
       "  <th>Method:</th>               <td>IRLS</td>       <th>  Log-Likelihood:    </th> <td> -798.23</td>\n",
       "</tr>\n",
       "<tr>\n",
       "  <th>Date:</th>           <td>Mon, 13 Feb 2017</td> <th>  Deviance:          </th> <td>  1596.5</td>\n",
       "</tr>\n",
       "<tr>\n",
       "  <th>Time:</th>               <td>15:01:09</td>     <th>  Pearson chi2:      </th> <td>7.15e+03</td>\n",
       "</tr>\n",
       "<tr>\n",
       "  <th>No. Iterations:</th>        <td>11</td>        <th>                     </th>     <td> </td>   \n",
       "</tr>\n",
       "</table>\n",
       "<table class=\"simpletable\">\n",
       "<tr>\n",
       "      <td></td>         <th>coef</th>     <th>std err</th>      <th>z</th>      <th>P>|z|</th> <th>[95.0% Conf. Int.]</th> \n",
       "</tr>\n",
       "<tr>\n",
       "  <th>Intercept</th> <td>  -10.6513</td> <td>    0.361</td> <td>  -29.491</td> <td> 0.000</td> <td>  -11.359    -9.943</td>\n",
       "</tr>\n",
       "<tr>\n",
       "  <th>balance</th>   <td>    0.0055</td> <td>    0.000</td> <td>   24.952</td> <td> 0.000</td> <td>    0.005     0.006</td>\n",
       "</tr>\n",
       "</table>"
      ],
      "text/plain": [
       "<class 'statsmodels.iolib.summary.Summary'>\n",
       "\"\"\"\n",
       "                 Generalized Linear Model Regression Results                  \n",
       "==============================================================================\n",
       "Dep. Variable:                default   No. Observations:                10000\n",
       "Model:                            GLM   Df Residuals:                     9998\n",
       "Model Family:                Binomial   Df Model:                            1\n",
       "Link Function:                  logit   Scale:                             1.0\n",
       "Method:                          IRLS   Log-Likelihood:                -798.23\n",
       "Date:                Mon, 13 Feb 2017   Deviance:                       1596.5\n",
       "Time:                        15:01:09   Pearson chi2:                 7.15e+03\n",
       "No. Iterations:                    11                                         \n",
       "==============================================================================\n",
       "                 coef    std err          z      P>|z|      [95.0% Conf. Int.]\n",
       "------------------------------------------------------------------------------\n",
       "Intercept    -10.6513      0.361    -29.491      0.000       -11.359    -9.943\n",
       "balance        0.0055      0.000     24.952      0.000         0.005     0.006\n",
       "==============================================================================\n",
       "\"\"\""
      ]
     },
     "execution_count": 41,
     "metadata": {},
     "output_type": "execute_result"
    }
   ],
   "source": [
    "# Retrieve beta values from the model\n",
    "lr = smf.glm(formula='default ~ balance', data=df, family=sm.families.Binomial()).fit()\n",
    "lr.summary()"
   ]
  },
  {
   "cell_type": "markdown",
   "metadata": {},
   "source": [
    "Using the beta values produced by the model, describe the relationship between `balance` and `default` (make sure to note the **p-value**, **direction**, and **units** of the coefficient):\n",
    "\n",
    "> Your insights here"
   ]
  },
  {
   "cell_type": "markdown",
   "metadata": {},
   "source": [
    "# A More Interpretable Model (10 minutes)"
   ]
  },
  {
   "cell_type": "markdown",
   "metadata": {},
   "source": [
    "The proportional increase of .6% in the model above is a bit small to have a good intuitive sense of. However, we can easily change our units of analysis to make this more interpretable. In the section below, you should do the following:\n",
    "\n",
    "- Convert balance to units of \\$100 and re-run the regression (hint, you'll need to create a new column or copy your dataframe)\n",
    "- Extract the beta values from your model"
   ]
  },
  {
   "cell_type": "code",
   "execution_count": 81,
   "metadata": {
    "collapsed": false
   },
   "outputs": [],
   "source": [
    "# Convert balance to units of $100 and re-run the regression\n"
   ]
  },
  {
   "cell_type": "code",
   "execution_count": 82,
   "metadata": {
    "collapsed": false
   },
   "outputs": [],
   "source": [
    "# Extract the beta values from you model\n"
   ]
  },
  {
   "cell_type": "markdown",
   "metadata": {},
   "source": [
    "What is the interpretation of your beta value from your regression?\n",
    "\n",
    "> Each unit ($100) increase is associated with increasing the odds of defaulting by **73%**"
   ]
  },
  {
   "cell_type": "markdown",
   "metadata": {},
   "source": [
    "# Evaluation Metrics (10 minutes)\n",
    "\n",
    "In the section above, you've developed a strategy for interpreting the **betas** produced by your model. However, you also need to assess how well your model fits your data. In order to do this, we need to return to the purpose of our model. We want to **predict if people will default on their loans**. Before diving back into the code, we'll introduce a **confusion matrix** to represent the relationship between the data and our estimates."
   ]
  },
  {
   "cell_type": "markdown",
   "metadata": {},
   "source": [
    "## Sensitivity and Specificity\n",
    "The concepts of sensitivity and specificity express how well your model accurately predicts positive and negative classes. In order to compute these, it is easy to first build a **confusion matrix** to show the total number of cases that were accurately predicted (and those that were not).\n",
    "\n",
    "  <table>\n",
    "  <tr>\n",
    "    <td/>\n",
    "    <td/>\n",
    "    <td colspan=\"2\"><em>Predicted Class</em></td>\n",
    "    <td/>\n",
    "  </tr>\n",
    "  <tr>\n",
    "    <td/>\n",
    "    <td/>\n",
    "    <td><strong>Negative (-)</strong></td>\n",
    "    <td><strong>Positive (+)</strong></td>\n",
    "    <td><strong>Total</strong></td>\n",
    "  </tr>\n",
    "  <tr>\n",
    "    <td rowspan=\"2\"><em>True Class</em></td>\n",
    "    <td><strong>Negative (-)</strong></td>\n",
    "    <td>True Negative (TN)</td>\n",
    "    <td>False Positives (FP)</td>\n",
    "    <td>Total non-cases (N)</td>\n",
    "  </tr>\n",
    "  <tr>\n",
    "    <td><strong>Positive (+)</strong></td>\n",
    "    <td>False Negatives (FN)</td>\n",
    "    <td>True Positives (TP)</td>\n",
    "    <td>Total cases (P)</td>\n",
    "  </tr>\n",
    "</table>\n"
   ]
  },
  {
   "cell_type": "markdown",
   "metadata": {},
   "source": [
    "In the matrix above, the rows represent the **data**, while the columns represent the **predictions**. For example, the top left cell (_True Negatives_) represents the number of instances in which someone did not default, and the model predicted that they did not default. Here are the definitions of each cell:\n",
    "\n",
    "- **True Positives**: The instances in which your model **predicts** a case (and the case **is true** in the data)\n",
    "- **False Positives**: The instances in which your model **predicts** a case (and the case **is not** true in the data)\n",
    "- **False Negatives**: The instances in which your model **does not** predict a case (and the case **is true** in the data)\n",
    "- **True Negatives**: The instances in which your model **does not** predict a case (and the case **is not** true in the data)"
   ]
  },
  {
   "cell_type": "markdown",
   "metadata": {},
   "source": [
    "Using those values, we can compute the **sensitivity** and **specificity** of our model:\n",
    "\n",
    "\\begin{equation*}\n",
    "Sensitivity = \\frac { True Positives }{ True Positives+False Negatives } \n",
    "\\end{equation*}\n",
    "\n",
    "\\begin{equation*}\n",
    "Specificity = \\frac { TrueNegatives }{ TrueNegatives+FalsePositives } \n",
    "\\end{equation*}"
   ]
  },
  {
   "cell_type": "markdown",
   "metadata": {},
   "source": [
    "These two metrics lend important insights regarding the quality of our model:\n",
    "\n",
    "> _**Sensitivity**_, also referred to as the _true positive rate_, tells us, of all of the **cases in the data**, how many did we accurately predict? This indicates the model's **ability to detect cases**. In other words, how **sensitively** does the model pick up on cases?\n",
    "\n",
    "> _**Specificity**_, also referred to as the _true negative rate_, tells us, of all of the **non-cases in the data**, how many did we accurately predict? This indicates the model's ability to assign non-cases.\n",
    "\n",
    "These metrics are directly used to calculate **Type I and Type II error rate**, which are analagous to Type I and Type II errors in statistical tests (incorrectly reject a true null hypothesis, incorrectly accept a false null hypothesis). \n",
    "\n",
    "> **Type I Error** rate is the proportion of instances which are **incorrectly classified as positive cases** (relative to the total number of **negative cases**). It is calculated as $1-specificity$, or simply the false positives relative to the total non-cases in the data, $FP/N$.\n",
    "\n",
    "> **Type II Error** rate is the proportion of instances which are **incorrectly classified as negative cases** (relative to the total number of **positive cases**). It is calculated as $1-sensitivity$, or simply the false negatives relative to the total cases in the data, $FN/P$.\n"
   ]
  },
  {
   "cell_type": "markdown",
   "metadata": {
    "collapsed": true
   },
   "source": [
    "# Metric Calculation (15 minutes)"
   ]
  },
  {
   "cell_type": "markdown",
   "metadata": {},
   "source": [
    "In this section, you'll evaluate the fit of your model by calculating the following:\n",
    "\n",
    "- First, using a threshold of .5, use your model to predict a binary outcome (each case as 0 or 1)\n",
    "- What is the **accuracy** of your model (how often does the prediction match the data)?\n",
    "- What are the sensitivity, specificity, Type I error rate, and Type II error rates?"
   ]
  },
  {
   "cell_type": "code",
   "execution_count": 83,
   "metadata": {
    "collapsed": false
   },
   "outputs": [],
   "source": [
    "# First, using a threshold of .5, use your model to predict a binary outcome (each case as 0 or 1)\n"
   ]
  },
  {
   "cell_type": "code",
   "execution_count": 84,
   "metadata": {
    "collapsed": false
   },
   "outputs": [],
   "source": [
    "# What is the accuracy of your model (how often does the prediction match the data)?\n"
   ]
  },
  {
   "cell_type": "code",
   "execution_count": 85,
   "metadata": {
    "collapsed": false
   },
   "outputs": [],
   "source": [
    "# What are the sensitivity, specificity, Type I error rate, and Type II error rates?\n"
   ]
  },
  {
   "cell_type": "markdown",
   "metadata": {},
   "source": [
    "What is your interpretation of these values?\n",
    "\n",
    "> Your insights here"
   ]
  },
  {
   "cell_type": "markdown",
   "metadata": {},
   "source": [
    "## ROC Curve (10 minutes)\n",
    "\n",
    "It is common to compare the _true positive rate_ (sensitivity) to the _false positive rate_ (1 - specificity) at each **threshold** for classification in an [ROC Curve](https://en.wikipedia.org/wiki/Receiver_operating_characteristic). This [interactive visualization](http://www.navan.name/roc/) may help you better understand the relationship between thresholds and the ROC. In this section, you'll do the following:\n",
    "\n",
    "- Generate data for the ROC curve using the `metrics.roc_curve` function\n",
    "- Draw your ROC curve\n",
    "- Calculate the area under your ROC curve using the `metrics.roc_auc_curve` function"
   ]
  },
  {
   "cell_type": "code",
   "execution_count": 86,
   "metadata": {
    "collapsed": false
   },
   "outputs": [],
   "source": [
    "# Generate data for the ROC curve using the `metrics.roc_curve` function\n"
   ]
  },
  {
   "cell_type": "code",
   "execution_count": 87,
   "metadata": {
    "collapsed": false
   },
   "outputs": [],
   "source": [
    "# Draw your ROC curve\n"
   ]
  },
  {
   "cell_type": "code",
   "execution_count": 88,
   "metadata": {
    "collapsed": false
   },
   "outputs": [],
   "source": [
    "# Calculate the area under your ROC curve using the metrics.roc_auc_curve function\n"
   ]
  }
 ],
 "metadata": {
  "anaconda-cloud": {},
  "kernelspec": {
   "display_name": "Python [default]",
   "language": "python",
   "name": "python3"
  },
  "language_info": {
   "codemirror_mode": {
    "name": "ipython",
    "version": 3
   },
   "file_extension": ".py",
   "mimetype": "text/x-python",
   "name": "python",
   "nbconvert_exporter": "python",
   "pygments_lexer": "ipython3",
   "version": "3.5.2"
  }
 },
 "nbformat": 4,
 "nbformat_minor": 0
}
